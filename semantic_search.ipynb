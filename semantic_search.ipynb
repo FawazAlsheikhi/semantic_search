{
 "cells": [
  {
   "cell_type": "markdown",
   "id": "JSmNERqR85HL",
   "metadata": {
    "id": "JSmNERqR85HL"
   },
   "source": [
    "# Task 2\n",
    "- Raghad Al-Rasheed\n",
    "- Fawwaz Alsheikhi\n",
    "\n",
    "using the E5 model as the embedding model and translated dataset from huggingface"
   ]
  },
  {
   "cell_type": "code",
   "execution_count": 1,
   "id": "aWH13aiSrZ-a",
   "metadata": {
    "colab": {
     "base_uri": "https://localhost:8080/"
    },
    "id": "aWH13aiSrZ-a",
    "outputId": "253ef0b7-b207-48d1-f5a7-e352443a0db8"
   },
   "outputs": [
    {
     "name": "stdout",
     "output_type": "stream",
     "text": [
      "Requirement already satisfied: sentence_transformers in /home/fawaz/Documents/private/Tuwaiq/week1_assesment/env/lib/python3.10/site-packages (3.0.1)\n",
      "Requirement already satisfied: scipy in /home/fawaz/Documents/private/Tuwaiq/week1_assesment/env/lib/python3.10/site-packages (from sentence_transformers) (1.14.0)\n",
      "Requirement already satisfied: Pillow in /home/fawaz/Documents/private/Tuwaiq/week1_assesment/env/lib/python3.10/site-packages (from sentence_transformers) (10.4.0)\n",
      "Requirement already satisfied: tqdm in /home/fawaz/Documents/private/Tuwaiq/week1_assesment/env/lib/python3.10/site-packages (from sentence_transformers) (4.66.4)\n",
      "Requirement already satisfied: transformers<5.0.0,>=4.34.0 in /home/fawaz/Documents/private/Tuwaiq/week1_assesment/env/lib/python3.10/site-packages (from sentence_transformers) (4.43.3)\n",
      "Requirement already satisfied: torch>=1.11.0 in /home/fawaz/Documents/private/Tuwaiq/week1_assesment/env/lib/python3.10/site-packages (from sentence_transformers) (2.4.0)\n",
      "Requirement already satisfied: scikit-learn in /home/fawaz/Documents/private/Tuwaiq/week1_assesment/env/lib/python3.10/site-packages (from sentence_transformers) (1.5.1)\n",
      "Requirement already satisfied: numpy in /home/fawaz/Documents/private/Tuwaiq/week1_assesment/env/lib/python3.10/site-packages (from sentence_transformers) (1.26.4)\n",
      "Requirement already satisfied: huggingface-hub>=0.15.1 in /home/fawaz/Documents/private/Tuwaiq/week1_assesment/env/lib/python3.10/site-packages (from sentence_transformers) (0.24.5)\n",
      "Requirement already satisfied: fsspec>=2023.5.0 in /home/fawaz/Documents/private/Tuwaiq/week1_assesment/env/lib/python3.10/site-packages (from huggingface-hub>=0.15.1->sentence_transformers) (2024.5.0)\n",
      "Requirement already satisfied: requests in /home/fawaz/Documents/private/Tuwaiq/week1_assesment/env/lib/python3.10/site-packages (from huggingface-hub>=0.15.1->sentence_transformers) (2.32.3)\n",
      "Requirement already satisfied: filelock in /home/fawaz/Documents/private/Tuwaiq/week1_assesment/env/lib/python3.10/site-packages (from huggingface-hub>=0.15.1->sentence_transformers) (3.15.4)\n",
      "Requirement already satisfied: packaging>=20.9 in /home/fawaz/Documents/private/Tuwaiq/week1_assesment/env/lib/python3.10/site-packages (from huggingface-hub>=0.15.1->sentence_transformers) (24.1)\n",
      "Requirement already satisfied: typing-extensions>=3.7.4.3 in /home/fawaz/Documents/private/Tuwaiq/week1_assesment/env/lib/python3.10/site-packages (from huggingface-hub>=0.15.1->sentence_transformers) (4.12.2)\n",
      "Requirement already satisfied: pyyaml>=5.1 in /home/fawaz/Documents/private/Tuwaiq/week1_assesment/env/lib/python3.10/site-packages (from huggingface-hub>=0.15.1->sentence_transformers) (6.0.1)\n",
      "Requirement already satisfied: nvidia-cufft-cu12==11.0.2.54 in /home/fawaz/Documents/private/Tuwaiq/week1_assesment/env/lib/python3.10/site-packages (from torch>=1.11.0->sentence_transformers) (11.0.2.54)\n",
      "Requirement already satisfied: networkx in /home/fawaz/Documents/private/Tuwaiq/week1_assesment/env/lib/python3.10/site-packages (from torch>=1.11.0->sentence_transformers) (3.3)\n",
      "Requirement already satisfied: nvidia-cusparse-cu12==12.1.0.106 in /home/fawaz/Documents/private/Tuwaiq/week1_assesment/env/lib/python3.10/site-packages (from torch>=1.11.0->sentence_transformers) (12.1.0.106)\n",
      "Requirement already satisfied: nvidia-curand-cu12==10.3.2.106 in /home/fawaz/Documents/private/Tuwaiq/week1_assesment/env/lib/python3.10/site-packages (from torch>=1.11.0->sentence_transformers) (10.3.2.106)\n",
      "Requirement already satisfied: nvidia-cuda-nvrtc-cu12==12.1.105 in /home/fawaz/Documents/private/Tuwaiq/week1_assesment/env/lib/python3.10/site-packages (from torch>=1.11.0->sentence_transformers) (12.1.105)\n",
      "Requirement already satisfied: nvidia-cublas-cu12==12.1.3.1 in /home/fawaz/Documents/private/Tuwaiq/week1_assesment/env/lib/python3.10/site-packages (from torch>=1.11.0->sentence_transformers) (12.1.3.1)\n",
      "Requirement already satisfied: nvidia-cusolver-cu12==11.4.5.107 in /home/fawaz/Documents/private/Tuwaiq/week1_assesment/env/lib/python3.10/site-packages (from torch>=1.11.0->sentence_transformers) (11.4.5.107)\n",
      "Requirement already satisfied: nvidia-nccl-cu12==2.20.5 in /home/fawaz/Documents/private/Tuwaiq/week1_assesment/env/lib/python3.10/site-packages (from torch>=1.11.0->sentence_transformers) (2.20.5)\n",
      "Requirement already satisfied: nvidia-nvtx-cu12==12.1.105 in /home/fawaz/Documents/private/Tuwaiq/week1_assesment/env/lib/python3.10/site-packages (from torch>=1.11.0->sentence_transformers) (12.1.105)\n",
      "Requirement already satisfied: triton==3.0.0 in /home/fawaz/Documents/private/Tuwaiq/week1_assesment/env/lib/python3.10/site-packages (from torch>=1.11.0->sentence_transformers) (3.0.0)\n",
      "Requirement already satisfied: nvidia-cuda-runtime-cu12==12.1.105 in /home/fawaz/Documents/private/Tuwaiq/week1_assesment/env/lib/python3.10/site-packages (from torch>=1.11.0->sentence_transformers) (12.1.105)\n",
      "Requirement already satisfied: nvidia-cuda-cupti-cu12==12.1.105 in /home/fawaz/Documents/private/Tuwaiq/week1_assesment/env/lib/python3.10/site-packages (from torch>=1.11.0->sentence_transformers) (12.1.105)\n",
      "Requirement already satisfied: sympy in /home/fawaz/Documents/private/Tuwaiq/week1_assesment/env/lib/python3.10/site-packages (from torch>=1.11.0->sentence_transformers) (1.13.1)\n",
      "Requirement already satisfied: jinja2 in /home/fawaz/Documents/private/Tuwaiq/week1_assesment/env/lib/python3.10/site-packages (from torch>=1.11.0->sentence_transformers) (3.1.4)\n",
      "Requirement already satisfied: nvidia-cudnn-cu12==9.1.0.70 in /home/fawaz/Documents/private/Tuwaiq/week1_assesment/env/lib/python3.10/site-packages (from torch>=1.11.0->sentence_transformers) (9.1.0.70)\n",
      "Requirement already satisfied: nvidia-nvjitlink-cu12 in /home/fawaz/Documents/private/Tuwaiq/week1_assesment/env/lib/python3.10/site-packages (from nvidia-cusolver-cu12==11.4.5.107->torch>=1.11.0->sentence_transformers) (12.5.82)\n",
      "Requirement already satisfied: regex!=2019.12.17 in /home/fawaz/Documents/private/Tuwaiq/week1_assesment/env/lib/python3.10/site-packages (from transformers<5.0.0,>=4.34.0->sentence_transformers) (2024.7.24)\n",
      "Requirement already satisfied: tokenizers<0.20,>=0.19 in /home/fawaz/Documents/private/Tuwaiq/week1_assesment/env/lib/python3.10/site-packages (from transformers<5.0.0,>=4.34.0->sentence_transformers) (0.19.1)\n",
      "Requirement already satisfied: safetensors>=0.4.1 in /home/fawaz/Documents/private/Tuwaiq/week1_assesment/env/lib/python3.10/site-packages (from transformers<5.0.0,>=4.34.0->sentence_transformers) (0.4.3)\n",
      "Requirement already satisfied: joblib>=1.2.0 in /home/fawaz/Documents/private/Tuwaiq/week1_assesment/env/lib/python3.10/site-packages (from scikit-learn->sentence_transformers) (1.4.2)\n",
      "Requirement already satisfied: threadpoolctl>=3.1.0 in /home/fawaz/Documents/private/Tuwaiq/week1_assesment/env/lib/python3.10/site-packages (from scikit-learn->sentence_transformers) (3.5.0)\n",
      "Requirement already satisfied: MarkupSafe>=2.0 in /home/fawaz/Documents/private/Tuwaiq/week1_assesment/env/lib/python3.10/site-packages (from jinja2->torch>=1.11.0->sentence_transformers) (2.1.5)\n",
      "Requirement already satisfied: idna<4,>=2.5 in /home/fawaz/Documents/private/Tuwaiq/week1_assesment/env/lib/python3.10/site-packages (from requests->huggingface-hub>=0.15.1->sentence_transformers) (3.7)\n",
      "Requirement already satisfied: charset-normalizer<4,>=2 in /home/fawaz/Documents/private/Tuwaiq/week1_assesment/env/lib/python3.10/site-packages (from requests->huggingface-hub>=0.15.1->sentence_transformers) (3.3.2)\n",
      "Requirement already satisfied: urllib3<3,>=1.21.1 in /home/fawaz/Documents/private/Tuwaiq/week1_assesment/env/lib/python3.10/site-packages (from requests->huggingface-hub>=0.15.1->sentence_transformers) (2.2.2)\n",
      "Requirement already satisfied: certifi>=2017.4.17 in /home/fawaz/Documents/private/Tuwaiq/week1_assesment/env/lib/python3.10/site-packages (from requests->huggingface-hub>=0.15.1->sentence_transformers) (2024.7.4)\n",
      "Requirement already satisfied: mpmath<1.4,>=1.1.0 in /home/fawaz/Documents/private/Tuwaiq/week1_assesment/env/lib/python3.10/site-packages (from sympy->torch>=1.11.0->sentence_transformers) (1.3.0)\n"
     ]
    }
   ],
   "source": [
    "!pip install sentence_transformers"
   ]
  },
  {
   "cell_type": "markdown",
   "id": "4W7T99lU3b3l",
   "metadata": {
    "id": "4W7T99lU3b3l"
   },
   "source": [
    "## Downloading the Embedding model"
   ]
  },
  {
   "cell_type": "code",
   "execution_count": 2,
   "id": "47317a5d-0be7-49d2-a6dd-8d0d6654a746",
   "metadata": {
    "colab": {
     "base_uri": "https://localhost:8080/"
    },
    "id": "47317a5d-0be7-49d2-a6dd-8d0d6654a746",
    "outputId": "a7d4c5a2-6742-4d48-f285-99c923b56510"
   },
   "outputs": [
    {
     "name": "stderr",
     "output_type": "stream",
     "text": [
      "/home/fawaz/Documents/private/Tuwaiq/week1_assesment/env/lib/python3.10/site-packages/sentence_transformers/cross_encoder/CrossEncoder.py:11: TqdmExperimentalWarning: Using `tqdm.autonotebook.tqdm` in notebook mode. Use `tqdm.tqdm` instead to force console mode (e.g. in jupyter console)\n",
      "  from tqdm.autonotebook import tqdm, trange\n",
      "[nltk_data] Downloading package punkt to /home/fawaz/nltk_data...\n",
      "[nltk_data]   Package punkt is already up-to-date!\n"
     ]
    }
   ],
   "source": [
    "from sentence_transformers import SentenceTransformer\n",
    "import nltk\n",
    "nltk.download('punkt')\n",
    "from nltk.tokenize import word_tokenize\n",
    "import math\n",
    "from scipy import spatial\n",
    "\n",
    "\n",
    "model = SentenceTransformer(\"intfloat/multilingual-e5-large\").to('cuda')"
   ]
  },
  {
   "cell_type": "markdown",
   "id": "YmpB6Cx13L_T",
   "metadata": {
    "id": "YmpB6Cx13L_T"
   },
   "source": [
    "## Downloading Translated data from english to arabic"
   ]
  },
  {
   "cell_type": "code",
   "execution_count": 3,
   "id": "734b7c71-1975-449f-b8fa-f2104576c11d",
   "metadata": {
    "colab": {
     "base_uri": "https://localhost:8080/",
     "height": 793,
     "referenced_widgets": [
      "e3ff025c6ddf445ab6d7b3de3d67b830",
      "9bfeffab6b6a48b7acaae3caf7bb9c0e",
      "6eb503e17d7d443d937acbe836e4b31a",
      "d886eecef97d49dcb658054019146e2d",
      "c93ed51e68234916a7464bcdcf3de300",
      "861870fe159e422c9fe3dd623e32ed69",
      "f79238b30e6c43159d2da903991f355a",
      "b0e4177f5bf84fe3a8c79fd51e42b0e8",
      "4250735c57724a979f8744332b0adf63",
      "203fdf6fb64f4e5d85c7f5839fda2cfb",
      "e902993001f44d968c0885809ea71961",
      "0c8de70896ac499890dfaac748068474",
      "778c3e31edf24561a362e792234e784b",
      "1f25d509f34d43e1a693bc9d2f2cf902",
      "265aecdd53304dee9007ebc077699769",
      "c71550d3348a463da2549b9af287bfc4",
      "8c383849f5c44df1a0e15a0344fe6655",
      "4670809e805e4aeb81b8679e64dda257",
      "f33ff28a79114e5b8e999bf67c766d81",
      "f609e4103d5840ceb40f077ff499abfb",
      "68a1fa6930e542e5afa3d111fb85bc18",
      "feece1895f914160b7768b595e2a4493",
      "ef7f6248fff34508a5c9c62b08afbe58",
      "5dad88f8dddb4a7ea823c4d766d992f0",
      "3ea963a1379447ef84e7b9dfb4dbb679",
      "64cd63a63fb045728de7cbaf9142c721",
      "eff343ca05364570b3b1894d7d3d4e61",
      "29738d2a39ec4b59b4a12001a01b82c2",
      "0ed66232bf4a4406b13fc0f2b6a1c23f",
      "23e9660dcc00462cbbbae3a0822f1898",
      "b28a610af8c9426980e888f0bb906c4c",
      "310abe7379aa41ef9241748e0fe40695",
      "d664d7f5b5124895a4b563873ef438ba"
     ]
    },
    "id": "734b7c71-1975-449f-b8fa-f2104576c11d",
    "outputId": "7529a63c-979d-4664-edd5-7ea8c9375415"
   },
   "outputs": [
    {
     "name": "stdout",
     "output_type": "stream",
     "text": [
      "Requirement already satisfied: datasets in /home/fawaz/Documents/private/Tuwaiq/week1_assesment/env/lib/python3.10/site-packages (2.20.0)\n",
      "Requirement already satisfied: aiohttp in /home/fawaz/Documents/private/Tuwaiq/week1_assesment/env/lib/python3.10/site-packages (from datasets) (3.10.0)\n",
      "Requirement already satisfied: pandas in /home/fawaz/Documents/private/Tuwaiq/week1_assesment/env/lib/python3.10/site-packages (from datasets) (2.2.2)\n",
      "Requirement already satisfied: numpy>=1.17 in /home/fawaz/Documents/private/Tuwaiq/week1_assesment/env/lib/python3.10/site-packages (from datasets) (1.26.4)\n",
      "Requirement already satisfied: multiprocess in /home/fawaz/Documents/private/Tuwaiq/week1_assesment/env/lib/python3.10/site-packages (from datasets) (0.70.16)\n",
      "Requirement already satisfied: tqdm>=4.66.3 in /home/fawaz/Documents/private/Tuwaiq/week1_assesment/env/lib/python3.10/site-packages (from datasets) (4.66.4)\n",
      "Requirement already satisfied: fsspec[http]<=2024.5.0,>=2023.1.0 in /home/fawaz/Documents/private/Tuwaiq/week1_assesment/env/lib/python3.10/site-packages (from datasets) (2024.5.0)\n",
      "Requirement already satisfied: packaging in /home/fawaz/Documents/private/Tuwaiq/week1_assesment/env/lib/python3.10/site-packages (from datasets) (24.1)\n",
      "Requirement already satisfied: xxhash in /home/fawaz/Documents/private/Tuwaiq/week1_assesment/env/lib/python3.10/site-packages (from datasets) (3.4.1)\n",
      "Requirement already satisfied: filelock in /home/fawaz/Documents/private/Tuwaiq/week1_assesment/env/lib/python3.10/site-packages (from datasets) (3.15.4)\n",
      "Requirement already satisfied: huggingface-hub>=0.21.2 in /home/fawaz/Documents/private/Tuwaiq/week1_assesment/env/lib/python3.10/site-packages (from datasets) (0.24.5)\n",
      "Requirement already satisfied: requests>=2.32.2 in /home/fawaz/Documents/private/Tuwaiq/week1_assesment/env/lib/python3.10/site-packages (from datasets) (2.32.3)\n",
      "Requirement already satisfied: dill<0.3.9,>=0.3.0 in /home/fawaz/Documents/private/Tuwaiq/week1_assesment/env/lib/python3.10/site-packages (from datasets) (0.3.8)\n",
      "Requirement already satisfied: pyarrow-hotfix in /home/fawaz/Documents/private/Tuwaiq/week1_assesment/env/lib/python3.10/site-packages (from datasets) (0.6)\n",
      "Requirement already satisfied: pyarrow>=15.0.0 in /home/fawaz/Documents/private/Tuwaiq/week1_assesment/env/lib/python3.10/site-packages (from datasets) (17.0.0)\n",
      "Requirement already satisfied: pyyaml>=5.1 in /home/fawaz/Documents/private/Tuwaiq/week1_assesment/env/lib/python3.10/site-packages (from datasets) (6.0.1)\n",
      "Requirement already satisfied: multidict<7.0,>=4.5 in /home/fawaz/Documents/private/Tuwaiq/week1_assesment/env/lib/python3.10/site-packages (from aiohttp->datasets) (6.0.5)\n",
      "Requirement already satisfied: yarl<2.0,>=1.0 in /home/fawaz/Documents/private/Tuwaiq/week1_assesment/env/lib/python3.10/site-packages (from aiohttp->datasets) (1.9.4)\n",
      "Requirement already satisfied: aiosignal>=1.1.2 in /home/fawaz/Documents/private/Tuwaiq/week1_assesment/env/lib/python3.10/site-packages (from aiohttp->datasets) (1.3.1)\n",
      "Requirement already satisfied: attrs>=17.3.0 in /home/fawaz/Documents/private/Tuwaiq/week1_assesment/env/lib/python3.10/site-packages (from aiohttp->datasets) (23.2.0)\n",
      "Requirement already satisfied: aiohappyeyeballs>=2.3.0 in /home/fawaz/Documents/private/Tuwaiq/week1_assesment/env/lib/python3.10/site-packages (from aiohttp->datasets) (2.3.4)\n",
      "Requirement already satisfied: async-timeout<5.0,>=4.0 in /home/fawaz/Documents/private/Tuwaiq/week1_assesment/env/lib/python3.10/site-packages (from aiohttp->datasets) (4.0.3)\n",
      "Requirement already satisfied: frozenlist>=1.1.1 in /home/fawaz/Documents/private/Tuwaiq/week1_assesment/env/lib/python3.10/site-packages (from aiohttp->datasets) (1.4.1)\n",
      "Requirement already satisfied: typing-extensions>=3.7.4.3 in /home/fawaz/Documents/private/Tuwaiq/week1_assesment/env/lib/python3.10/site-packages (from huggingface-hub>=0.21.2->datasets) (4.12.2)\n",
      "Requirement already satisfied: certifi>=2017.4.17 in /home/fawaz/Documents/private/Tuwaiq/week1_assesment/env/lib/python3.10/site-packages (from requests>=2.32.2->datasets) (2024.7.4)\n",
      "Requirement already satisfied: idna<4,>=2.5 in /home/fawaz/Documents/private/Tuwaiq/week1_assesment/env/lib/python3.10/site-packages (from requests>=2.32.2->datasets) (3.7)\n",
      "Requirement already satisfied: charset-normalizer<4,>=2 in /home/fawaz/Documents/private/Tuwaiq/week1_assesment/env/lib/python3.10/site-packages (from requests>=2.32.2->datasets) (3.3.2)\n",
      "Requirement already satisfied: urllib3<3,>=1.21.1 in /home/fawaz/Documents/private/Tuwaiq/week1_assesment/env/lib/python3.10/site-packages (from requests>=2.32.2->datasets) (2.2.2)\n",
      "Requirement already satisfied: tzdata>=2022.7 in /home/fawaz/Documents/private/Tuwaiq/week1_assesment/env/lib/python3.10/site-packages (from pandas->datasets) (2024.1)\n",
      "Requirement already satisfied: python-dateutil>=2.8.2 in /home/fawaz/Documents/private/Tuwaiq/week1_assesment/env/lib/python3.10/site-packages (from pandas->datasets) (2.9.0.post0)\n",
      "Requirement already satisfied: pytz>=2020.1 in /home/fawaz/Documents/private/Tuwaiq/week1_assesment/env/lib/python3.10/site-packages (from pandas->datasets) (2024.1)\n",
      "Requirement already satisfied: six>=1.5 in /home/fawaz/Documents/private/Tuwaiq/week1_assesment/env/lib/python3.10/site-packages (from python-dateutil>=2.8.2->pandas->datasets) (1.16.0)\n"
     ]
    }
   ],
   "source": [
    "!pip3 install datasets\n",
    "from datasets import load_dataset\n",
    "\n",
    "\n",
    "ds = load_dataset(\"Helsinki-NLP/news_commentary\", \"ar-en\",split=\"train\")"
   ]
  },
  {
   "cell_type": "code",
   "execution_count": 4,
   "id": "25751839-9bad-4688-9c99-97a820980b15",
   "metadata": {
    "id": "25751839-9bad-4688-9c99-97a820980b15"
   },
   "outputs": [],
   "source": [
    "import pandas as pd\n",
    "\n",
    "df = pd.DataFrame(ds['translation'])"
   ]
  },
  {
   "cell_type": "code",
   "execution_count": 5,
   "id": "5f037c61-eb28-4fe6-944b-12977d92add0",
   "metadata": {
    "colab": {
     "base_uri": "https://localhost:8080/"
    },
    "id": "5f037c61-eb28-4fe6-944b-12977d92add0",
    "outputId": "cb3004d7-b872-4c0a-9b75-748ae1c9d5d0"
   },
   "outputs": [
    {
     "data": {
      "text/plain": [
       "0                                  الذهب بعشرة آلاف دولار؟\n",
       "1        سان فرانسيسكو ـ لم يكن من السهل قط أن ينخرط ال...\n",
       "2        ولكن من المؤسف أن أسعار الذهب واصلت ارتفاعها م...\n",
       "3        ومؤخراً شرح لي أحد المستثمرين الناجحين في مجال...\n",
       "4        لا أحد يستطيع أن ينكر أن توقع ارتفاع أسعار الذ...\n",
       "                               ...                        \n",
       "83182    لا شك أن المخاطر التي تحيط بأفريقيا هائلة. إن ...\n",
       "83183    إن زوما يستشعر الوضع الحرج الذي تعيشه جنوب أفر...\n",
       "83184    رغم ذلك، وطبقاً لرأي الخبير الاقتصادي السياسي ...\n",
       "83185    ولكن في الوقت نفسه ما زال جيل زوما الثوري يظهر...\n",
       "83186    إن ثلاثة من كل عشرة في جنوب أفريقيا شباب دون ا...\n",
       "Name: ar, Length: 83187, dtype: object"
      ]
     },
     "execution_count": 5,
     "metadata": {},
     "output_type": "execute_result"
    }
   ],
   "source": [
    "df['ar']"
   ]
  },
  {
   "cell_type": "code",
   "execution_count": 6,
   "id": "HyO2vbegsQSm",
   "metadata": {
    "colab": {
     "base_uri": "https://localhost:8080/",
     "height": 35
    },
    "id": "HyO2vbegsQSm",
    "outputId": "fc44a116-7ab9-4968-ca87-5e6f3a46067d"
   },
   "outputs": [
    {
     "data": {
      "text/plain": [
       "'الذهب بعشرة آلاف دولار؟'"
      ]
     },
     "execution_count": 6,
     "metadata": {},
     "output_type": "execute_result"
    }
   ],
   "source": [
    "df['ar'][0]"
   ]
  },
  {
   "cell_type": "markdown",
   "id": "3lBYfNxa37Yj",
   "metadata": {
    "id": "3lBYfNxa37Yj"
   },
   "source": [
    "### Extracting the first 10000 rows out of the data"
   ]
  },
  {
   "cell_type": "code",
   "execution_count": 7,
   "id": "jM407P4KsWia",
   "metadata": {
    "id": "jM407P4KsWia"
   },
   "outputs": [],
   "source": [
    "df=df.head(10000)"
   ]
  },
  {
   "cell_type": "code",
   "execution_count": 8,
   "id": "-cAi2GIzsclY",
   "metadata": {
    "colab": {
     "base_uri": "https://localhost:8080/"
    },
    "id": "-cAi2GIzsclY",
    "outputId": "1424e0ae-abce-4d0f-de63-f23b77a45115"
   },
   "outputs": [
    {
     "data": {
      "text/plain": [
       "(10000,)"
      ]
     },
     "execution_count": 8,
     "metadata": {},
     "output_type": "execute_result"
    }
   ],
   "source": [
    "df['ar'].shape"
   ]
  },
  {
   "cell_type": "code",
   "execution_count": 9,
   "id": "4ec07f5d-d7db-4f5d-8a1d-8fa72cfd938a",
   "metadata": {
    "id": "4ec07f5d-d7db-4f5d-8a1d-8fa72cfd938a"
   },
   "outputs": [],
   "source": [
    "documents =[doc for doc in df['ar']]"
   ]
  },
  {
   "cell_type": "code",
   "execution_count": 10,
   "id": "fdb42ccd-ee30-4918-a859-186e72195809",
   "metadata": {
    "colab": {
     "base_uri": "https://localhost:8080/",
     "height": 87
    },
    "id": "fdb42ccd-ee30-4918-a859-186e72195809",
    "outputId": "d6eee846-c9da-43b0-b8d3-9e968f173371"
   },
   "outputs": [
    {
     "data": {
      "text/plain": [
       "'إن إنقاذ ولاية ضخمة مثل كاليفورنيا، في حين أنه يضيف إلى الضغوط التي تتعرض لها حكومة أوباما ، فمن شأنه أيضاً أن يكشف الحلقة الضعيفة في نظام الحكم في الولايات المتحدة. إن البلدان التي يطلق عليها دولاً &quot;وحدوية&quot;، مثل بريطانيا أو فرنسا أو الصين أو كينيا، لديها في الأساس مجموعة منفردة من الالتزامات الحكومية: جهاز شرطة وطني واحد، وصاحب عمل واحد لكل معلمي المدارس العامة، ونظام إجمالي واحد لمعاشات التقاعد، إلى آخر ذلك. وعلى النقيض من ذلك سنجد أن الولايات المتحدة تتسم بشكل &quot;غير متماثل&quot; من أشكال الحكم، الأمر الذي يسمح بنشوء العديد من الكيانات الحكومية المتداخلة ـ سبعة آلاف في كاليفورنيا وحدها ـ التي تتعامل مع الديون، وتعين أو تفصل الموظفين، وتفرض الضرائب.'"
      ]
     },
     "execution_count": 10,
     "metadata": {},
     "output_type": "execute_result"
    }
   ],
   "source": [
    "documents[9999]"
   ]
  },
  {
   "cell_type": "markdown",
   "id": "y4VHQqQM4DtM",
   "metadata": {
    "id": "y4VHQqQM4DtM"
   },
   "source": [
    "## Embedding the sentences by rows"
   ]
  },
  {
   "cell_type": "code",
   "execution_count": 11,
   "id": "8918305e-4d29-487b-9cef-a2340204c1c5",
   "metadata": {
    "id": "8918305e-4d29-487b-9cef-a2340204c1c5"
   },
   "outputs": [],
   "source": [
    "embeddings = model.encode(documents)"
   ]
  },
  {
   "cell_type": "code",
   "execution_count": 12,
   "id": "78ba22b8-a8dd-4580-bd90-fe57c7a42171",
   "metadata": {
    "colab": {
     "base_uri": "https://localhost:8080/"
    },
    "id": "78ba22b8-a8dd-4580-bd90-fe57c7a42171",
    "outputId": "01f88115-224d-4af9-e204-e3eea29b507a"
   },
   "outputs": [
    {
     "name": "stderr",
     "output_type": "stream",
     "text": [
      "[nltk_data] Downloading package punkt to /home/fawaz/nltk_data...\n",
      "[nltk_data]   Package punkt is already up-to-date!\n"
     ]
    }
   ],
   "source": [
    "from sentence_transformers import SentenceTransformer\n",
    "import nltk\n",
    "nltk.download('punkt')\n",
    "from nltk.tokenize import word_tokenize\n",
    "import math\n",
    "from scipy import spatial\n",
    "import scipy\n",
    "\n",
    "def semantic_search(query, embeddings, documents):\n",
    "    query_embedding = model.encode(query)\n",
    "\n",
    "    document_embeddings = embeddings\n",
    "    scores = [scipy.spatial.distance.cosine(query_embedding, doc) for doc in document_embeddings]\n",
    "    ls1 = list()\n",
    "    for i, score in enumerate(scores):\n",
    "        ls1.append([documents[i],score])\n",
    "\n",
    "    print(scores.index(min(scores)))\n",
    "    most_similar_doc = documents[scores.index(min(scores))]\n",
    "    print(\"Most similar document\", most_similar_doc)\n",
    "    return ls1"
   ]
  },
  {
   "cell_type": "code",
   "execution_count": 13,
   "id": "d577a4a2-631c-4b22-b691-988f43293b52",
   "metadata": {
    "id": "d577a4a2-631c-4b22-b691-988f43293b52",
    "scrolled": true
   },
   "outputs": [
    {
     "name": "stdout",
     "output_type": "stream",
     "text": [
      "5855\n",
      "Most similar document بيد أن قصة الأرز الذهبي تشير بوضوح إلى أننا لم نكتسب بعد القدر اللازم من الإرادة والحكمة لتحقيق تلك الغايات.\n"
     ]
    }
   ],
   "source": [
    "output = semantic_search(\"ـ لم يكن من السهل قط أن ينخرط المرء في محادثة عقلانية حول قيمة الذهب.\",embeddings, documents)"
   ]
  },
  {
   "cell_type": "code",
   "execution_count": 14,
   "id": "7b4ab2b2-6d89-492f-b84e-74a152e8fa34",
   "metadata": {
    "id": "7b4ab2b2-6d89-492f-b84e-74a152e8fa34",
    "scrolled": true
   },
   "outputs": [
    {
     "data": {
      "text/plain": [
       "'حين سافر جيانغ زيمين سلف هيو إلى اليابان منذ عشرة أعوام، كانت العلاقات الثنائية بين البلدين تشهد نوعاً من التدهور: حيث لم تكن الصين سعيدة إزاء رفض الحكومة اليابانية تقديم اعتذاراها للصين بسبب اعتداءاتها الماضية، كما فعلت مع كوريا الجنوبية؛ كما شعرت اليابان بانزعاج بالغ وهي تراقب نهضة الصين ونزوعها إلى المجابهة والتحدي. وتناولت وسائل الإعلام اليابانية الزيارة بقدر عظيم من السلبية، حتى أنها وصِفَت بعد ذلك باعتبارها كارثة دعائية.'"
      ]
     },
     "execution_count": 14,
     "metadata": {},
     "output_type": "execute_result"
    }
   ],
   "source": [
    "documents[999]"
   ]
  },
  {
   "cell_type": "markdown",
   "id": "2aqU1SEa4KIt",
   "metadata": {
    "id": "2aqU1SEa4KIt"
   },
   "source": [
    "### Extracting top three related sentences"
   ]
  },
  {
   "cell_type": "code",
   "execution_count": 15,
   "id": "0becdaee-1d7a-44e3-bee2-c8eb86490607",
   "metadata": {
    "id": "0becdaee-1d7a-44e3-bee2-c8eb86490607"
   },
   "outputs": [
    {
     "data": {
      "text/plain": [
       "[['بيد أن قصة الأرز الذهبي تشير بوضوح إلى أننا لم نكتسب بعد القدر اللازم من الإرادة والحكمة لتحقيق تلك الغايات.',\n",
       "  0.1332587679182733],\n",
       " ['سان فرانسيسكو ـ لم يكن من السهل قط أن ينخرط المرء في محادثة عقلانية حول قيمة الذهب. ومؤخراً، مع ارتفاع أسعار الذهب بما يزيد على 300% في غضون الأعوام العشرة الماضية، فقد أصبح الأمر أصعب من أي وقت مضى. ففي شهر ديسمبر/كانون الأول الماضي، نشر كل من مارتن فيلدشتاين ونورييل روبيني ـ وهما من أبرز خبراء الاقتصاد ـ مقالاً تحريرياً، حيث شكك كل منهما في مقاله بشجاعة في مشاعر السوق الصاعدة، مشيراً بحكمة إلى المجازفات والمخاطر المحيطة بالذهب.',\n",
       "  0.14536714553833008],\n",
       " ['لا شك أن مثل هذه الاعتبارات قد تكون ذات تأثير طفيف على الأسعار. فما صدق بالنسبة للكيميائيين في الماضي لا يزال صادقاً حتى اليوم: فالتوفيق بين الذهب والمنطق قد يكون أمراً بالغ الصعوبة في كثير من الأحيان.',\n",
       "  0.14759991012811358]]"
      ]
     },
     "execution_count": 15,
     "metadata": {},
     "output_type": "execute_result"
    }
   ],
   "source": [
    "ranked = sorted(output, key=lambda x: x[1])\n",
    "ranked[:3]"
   ]
  },
  {
   "cell_type": "code",
   "execution_count": 16,
   "id": "936ce380-3269-4a6a-84f1-52a23d958fbd",
   "metadata": {
    "id": "936ce380-3269-4a6a-84f1-52a23d958fbd"
   },
   "outputs": [
    {
     "data": {
      "text/html": [
       "<div>\n",
       "<style scoped>\n",
       "    .dataframe tbody tr th:only-of-type {\n",
       "        vertical-align: middle;\n",
       "    }\n",
       "\n",
       "    .dataframe tbody tr th {\n",
       "        vertical-align: top;\n",
       "    }\n",
       "\n",
       "    .dataframe thead th {\n",
       "        text-align: right;\n",
       "    }\n",
       "</style>\n",
       "<table border=\"1\" class=\"dataframe\">\n",
       "  <thead>\n",
       "    <tr style=\"text-align: right;\">\n",
       "      <th></th>\n",
       "      <th>ar</th>\n",
       "      <th>en</th>\n",
       "    </tr>\n",
       "  </thead>\n",
       "  <tbody>\n",
       "    <tr>\n",
       "      <th>0</th>\n",
       "      <td>الذهب بعشرة آلاف دولار؟</td>\n",
       "      <td>$10,000 Gold?</td>\n",
       "    </tr>\n",
       "    <tr>\n",
       "      <th>1</th>\n",
       "      <td>سان فرانسيسكو ـ لم يكن من السهل قط أن ينخرط ال...</td>\n",
       "      <td>Lately, with gold prices up more than 300% ove...</td>\n",
       "    </tr>\n",
       "    <tr>\n",
       "      <th>2</th>\n",
       "      <td>ولكن من المؤسف أن أسعار الذهب واصلت ارتفاعها م...</td>\n",
       "      <td>Last December, many gold bugs were arguing tha...</td>\n",
       "    </tr>\n",
       "    <tr>\n",
       "      <th>3</th>\n",
       "      <td>ومؤخراً شرح لي أحد المستثمرين الناجحين في مجال...</td>\n",
       "      <td>One successful gold investor recently explaine...</td>\n",
       "    </tr>\n",
       "    <tr>\n",
       "      <th>4</th>\n",
       "      <td>لا أحد يستطيع أن ينكر أن توقع ارتفاع أسعار الذ...</td>\n",
       "      <td>But January 1980 was arguably a “freak peak” d...</td>\n",
       "    </tr>\n",
       "    <tr>\n",
       "      <th>...</th>\n",
       "      <td>...</td>\n",
       "      <td>...</td>\n",
       "    </tr>\n",
       "    <tr>\n",
       "      <th>9995</th>\n",
       "      <td>بيركلي ـ بينما تستولي إدارة أوباما الجديدة على...</td>\n",
       "      <td>Berkeley – While the new Obama administration ...</td>\n",
       "    </tr>\n",
       "    <tr>\n",
       "      <th>9996</th>\n",
       "      <td>كانت كاليفورنيا، وهي الولاية الأكثر ثراءً بين ...</td>\n",
       "      <td>California’s two most famous industries, Silic...</td>\n",
       "    </tr>\n",
       "    <tr>\n",
       "      <th>9997</th>\n",
       "      <td>ورغم ذلك فإن القوة التكنولوجية والتجارية التي ...</td>\n",
       "      <td>On May 19, the state’s voters, in a special el...</td>\n",
       "    </tr>\n",
       "    <tr>\n",
       "      <th>9998</th>\n",
       "      <td>وبالنسبة للرئيس باراك أوباما فإن أزمة كاليفورن...</td>\n",
       "      <td>For President Barack Obama, California’s crisi...</td>\n",
       "    </tr>\n",
       "    <tr>\n",
       "      <th>9999</th>\n",
       "      <td>إن إنقاذ ولاية ضخمة مثل كاليفورنيا، في حين أنه...</td>\n",
       "      <td>So-called “unitary” nations such as Britain, F...</td>\n",
       "    </tr>\n",
       "  </tbody>\n",
       "</table>\n",
       "<p>10000 rows × 2 columns</p>\n",
       "</div>"
      ],
      "text/plain": [
       "                                                     ar  \\\n",
       "0                               الذهب بعشرة آلاف دولار؟   \n",
       "1     سان فرانسيسكو ـ لم يكن من السهل قط أن ينخرط ال...   \n",
       "2     ولكن من المؤسف أن أسعار الذهب واصلت ارتفاعها م...   \n",
       "3     ومؤخراً شرح لي أحد المستثمرين الناجحين في مجال...   \n",
       "4     لا أحد يستطيع أن ينكر أن توقع ارتفاع أسعار الذ...   \n",
       "...                                                 ...   \n",
       "9995  بيركلي ـ بينما تستولي إدارة أوباما الجديدة على...   \n",
       "9996  كانت كاليفورنيا، وهي الولاية الأكثر ثراءً بين ...   \n",
       "9997  ورغم ذلك فإن القوة التكنولوجية والتجارية التي ...   \n",
       "9998  وبالنسبة للرئيس باراك أوباما فإن أزمة كاليفورن...   \n",
       "9999  إن إنقاذ ولاية ضخمة مثل كاليفورنيا، في حين أنه...   \n",
       "\n",
       "                                                     en  \n",
       "0                                         $10,000 Gold?  \n",
       "1     Lately, with gold prices up more than 300% ove...  \n",
       "2     Last December, many gold bugs were arguing tha...  \n",
       "3     One successful gold investor recently explaine...  \n",
       "4     But January 1980 was arguably a “freak peak” d...  \n",
       "...                                                 ...  \n",
       "9995  Berkeley – While the new Obama administration ...  \n",
       "9996  California’s two most famous industries, Silic...  \n",
       "9997  On May 19, the state’s voters, in a special el...  \n",
       "9998  For President Barack Obama, California’s crisi...  \n",
       "9999  So-called “unitary” nations such as Britain, F...  \n",
       "\n",
       "[10000 rows x 2 columns]"
      ]
     },
     "execution_count": 16,
     "metadata": {},
     "output_type": "execute_result"
    }
   ],
   "source": [
    "df"
   ]
  },
  {
   "cell_type": "markdown",
   "id": "7vqbfG7h4VSe",
   "metadata": {
    "id": "7vqbfG7h4VSe"
   },
   "source": [
    "## using english with arabic to see the semantic search of multilangual model"
   ]
  },
  {
   "cell_type": "code",
   "execution_count": 17,
   "id": "dPA8cWm34Uy7",
   "metadata": {
    "id": "dPA8cWm34Uy7"
   },
   "outputs": [
    {
     "data": {
      "text/plain": [
       "0                                 الذهب بعشرة آلاف دولار؟\n",
       "1       سان فرانسيسكو ـ لم يكن من السهل قط أن ينخرط ال...\n",
       "2       ولكن من المؤسف أن أسعار الذهب واصلت ارتفاعها م...\n",
       "3       ومؤخراً شرح لي أحد المستثمرين الناجحين في مجال...\n",
       "4       لا أحد يستطيع أن ينكر أن توقع ارتفاع أسعار الذ...\n",
       "                              ...                        \n",
       "9995    بيركلي ـ بينما تستولي إدارة أوباما الجديدة على...\n",
       "9996    كانت كاليفورنيا، وهي الولاية الأكثر ثراءً بين ...\n",
       "9997    ورغم ذلك فإن القوة التكنولوجية والتجارية التي ...\n",
       "9998    وبالنسبة للرئيس باراك أوباما فإن أزمة كاليفورن...\n",
       "9999    إن إنقاذ ولاية ضخمة مثل كاليفورنيا، في حين أنه...\n",
       "Name: ar, Length: 10000, dtype: object"
      ]
     },
     "execution_count": 17,
     "metadata": {},
     "output_type": "execute_result"
    }
   ],
   "source": [
    "df['ar']"
   ]
  },
  {
   "cell_type": "code",
   "execution_count": 18,
   "id": "BVY9ApFz4r4u",
   "metadata": {
    "id": "BVY9ApFz4r4u"
   },
   "outputs": [
    {
     "data": {
      "text/plain": [
       "0                                           $10,000 Gold?\n",
       "1       Lately, with gold prices up more than 300% ove...\n",
       "2       Last December, many gold bugs were arguing tha...\n",
       "3       One successful gold investor recently explaine...\n",
       "4       But January 1980 was arguably a “freak peak” d...\n",
       "                              ...                        \n",
       "9995    Berkeley – While the new Obama administration ...\n",
       "9996    California’s two most famous industries, Silic...\n",
       "9997    On May 19, the state’s voters, in a special el...\n",
       "9998    For President Barack Obama, California’s crisi...\n",
       "9999    So-called “unitary” nations such as Britain, F...\n",
       "Name: en, Length: 10000, dtype: object"
      ]
     },
     "execution_count": 18,
     "metadata": {},
     "output_type": "execute_result"
    }
   ],
   "source": [
    "df['en']"
   ]
  },
  {
   "cell_type": "code",
   "execution_count": 19,
   "id": "0vhoJKdp4tDx",
   "metadata": {
    "id": "0vhoJKdp4tDx"
   },
   "outputs": [
    {
     "name": "stdout",
     "output_type": "stream",
     "text": [
      "10000\n"
     ]
    }
   ],
   "source": [
    "df_ar = df['ar'].tolist()[:5000]\n",
    "\n",
    "df_en = df['en'].tolist()[:5000]\n",
    "\n",
    "combined_list = df_ar + df_en\n",
    "\n",
    "print(len(combined_list))\n"
   ]
  },
  {
   "cell_type": "code",
   "execution_count": 20,
   "id": "w85q6LVq5Bnh",
   "metadata": {
    "id": "w85q6LVq5Bnh"
   },
   "outputs": [],
   "source": [
    "embeddings1 = model.encode(combined_list)"
   ]
  },
  {
   "cell_type": "code",
   "execution_count": 31,
   "id": "1Ii_gE1M6Dvw",
   "metadata": {
    "id": "1Ii_gE1M6Dvw"
   },
   "outputs": [
    {
     "name": "stderr",
     "output_type": "stream",
     "text": [
      "[nltk_data] Downloading package punkt to /home/fawaz/nltk_data...\n",
      "[nltk_data]   Package punkt is already up-to-date!\n"
     ]
    }
   ],
   "source": [
    "from sentence_transformers import SentenceTransformer\n",
    "import nltk\n",
    "nltk.download('punkt')\n",
    "from nltk.tokenize import word_tokenize\n",
    "import math\n",
    "from scipy import spatial\n",
    "import scipy\n",
    "\n",
    "def semantic_search(query):\n",
    "    query_embedding = model.encode(query)\n",
    "\n",
    "    document_embeddings = embeddings1\n",
    "    scores = [scipy.spatial.distance.cosine(query_embedding, doc) for doc in document_embeddings]\n",
    "    ls1 = list()\n",
    "    for i, score in enumerate(scores):\n",
    "        ls1.append([combined_list[i],score])\n",
    "\n",
    "    print(scores.index(min(scores)))\n",
    "    most_similar_doc = combined_list[scores.index(min(scores))]\n",
    "    ranked = sorted(output, key=lambda x: x[1])\n",
    "    print(\"Most similar document\", most_similar_doc)\n",
    "    return ranked[0],ranked[1],ranked[2]"
   ]
  },
  {
   "cell_type": "code",
   "execution_count": 28,
   "id": "xeJGTY9-5pkO",
   "metadata": {
    "id": "xeJGTY9-5pkO"
   },
   "outputs": [
    {
     "name": "stdout",
     "output_type": "stream",
     "text": [
      "0\n",
      "Most similar document الذهب بعشرة آلاف دولار؟\n"
     ]
    }
   ],
   "source": [
    "# output = semantic_search(\"لذهب بعشرة آلاف دولار؟\")"
   ]
  },
  {
   "cell_type": "code",
   "execution_count": 29,
   "id": "PVNg7o6e6a41",
   "metadata": {
    "id": "PVNg7o6e6a41"
   },
   "outputs": [
    {
     "data": {
      "text/plain": [
       "[['الذهب بعشرة آلاف دولار؟', 0.030088365077972412],\n",
       " ['$10,000 Gold?', 0.1332303961056691],\n",
       " ['ومؤخراً شرح لي أحد المستثمرين الناجحين في مجال الذهب أن أسعار الأسهم كانت هزيلة لأكثر من عشرة أعوام قبل أن يتجاوز مؤشر داو جونز علامة الألف في أوائل ثمانينيات القرن العشرين. ومنذ ذلك الوقت استمر المؤشر في الصعود حتى تجاوز العشرة آلاف نقطة. والآن بعد أن عبر الذهب حاجز الألف السحري، فما الذي يمنعه من الارتفاع إلى عشرة أمثال؟',\n",
       "  0.14362496137619019]]"
      ]
     },
     "execution_count": 29,
     "metadata": {},
     "output_type": "execute_result"
    }
   ],
   "source": [
    "# ranked = sorted(output, key=lambda x: x[1])\n",
    "# ranked[:3]"
   ]
  },
  {
   "cell_type": "code",
   "execution_count": 35,
   "id": "1MES-il31hNq",
   "metadata": {
    "id": "1MES-il31hNq"
   },
   "outputs": [
    {
     "name": "stdout",
     "output_type": "stream",
     "text": [
      "Running on local URL:  http://127.0.0.1:7864\n",
      "Running on public URL: https://e0af48a154548db54b.gradio.live\n",
      "\n",
      "This share link expires in 72 hours. For free permanent hosting and GPU upgrades, run `gradio deploy` from Terminal to deploy to Spaces (https://huggingface.co/spaces)\n"
     ]
    },
    {
     "data": {
      "text/html": [
       "<div><iframe src=\"https://e0af48a154548db54b.gradio.live\" width=\"100%\" height=\"500\" allow=\"autoplay; camera; microphone; clipboard-read; clipboard-write;\" frameborder=\"0\" allowfullscreen></iframe></div>"
      ],
      "text/plain": [
       "<IPython.core.display.HTML object>"
      ]
     },
     "metadata": {},
     "output_type": "display_data"
    }
   ],
   "source": [
    "import gradio as gr\n",
    "\n",
    "demo = gr.Interface(fn=semantic_search,inputs = [\"text\"], outputs=[\"text\", \"text\", \"text\"])\n",
    "if __name__ == \"__main__\":\n",
    "    demo.launch(share=True)"
   ]
  },
  {
   "cell_type": "code",
   "execution_count": null,
   "id": "HMvFMd1s1kzJ",
   "metadata": {
    "id": "HMvFMd1s1kzJ"
   },
   "outputs": [],
   "source": []
  },
  {
   "cell_type": "code",
   "execution_count": null,
   "id": "2b58a08e-4cc1-4e5a-959a-29e4a95885fa",
   "metadata": {},
   "outputs": [],
   "source": []
  },
  {
   "cell_type": "code",
   "execution_count": null,
   "id": "15dce1e0-2905-4a3d-a395-9f0f7c886314",
   "metadata": {},
   "outputs": [],
   "source": []
  },
  {
   "cell_type": "code",
   "execution_count": null,
   "id": "02b1244f-7b5f-4f5b-b8b1-86e064b6a8e2",
   "metadata": {},
   "outputs": [],
   "source": []
  },
  {
   "cell_type": "code",
   "execution_count": null,
   "id": "4f2c9b83-906a-4e08-8160-5563fe90a2e1",
   "metadata": {},
   "outputs": [],
   "source": []
  },
  {
   "cell_type": "code",
   "execution_count": null,
   "id": "e35d6d38-19ee-4857-8074-91fe907a7552",
   "metadata": {},
   "outputs": [],
   "source": []
  },
  {
   "cell_type": "code",
   "execution_count": null,
   "id": "6825555e-6af1-4f7f-a242-9b52c33bb312",
   "metadata": {},
   "outputs": [],
   "source": []
  },
  {
   "cell_type": "code",
   "execution_count": null,
   "id": "94b26f14-3e4c-4ca9-a3ec-7522868c5a1b",
   "metadata": {},
   "outputs": [],
   "source": []
  },
  {
   "cell_type": "code",
   "execution_count": null,
   "id": "3aba8ba3-3de6-4bbe-ad07-08f4911e0846",
   "metadata": {},
   "outputs": [],
   "source": []
  },
  {
   "cell_type": "code",
   "execution_count": null,
   "id": "bb1c999c-32af-4ada-8fab-b4b4cc2be1e0",
   "metadata": {},
   "outputs": [],
   "source": []
  },
  {
   "cell_type": "code",
   "execution_count": null,
   "id": "5a11f896-0f71-4b14-91c5-bc01f1d9b8a8",
   "metadata": {},
   "outputs": [],
   "source": []
  },
  {
   "cell_type": "code",
   "execution_count": null,
   "id": "193b53e6-bf73-4c8f-875a-e83dde98f347",
   "metadata": {},
   "outputs": [],
   "source": []
  },
  {
   "cell_type": "code",
   "execution_count": null,
   "id": "e2906064-5914-4f74-bad2-30b15a3cd981",
   "metadata": {},
   "outputs": [],
   "source": []
  },
  {
   "cell_type": "code",
   "execution_count": null,
   "id": "29d02647-6d43-4a8c-b0fa-30a02665794c",
   "metadata": {},
   "outputs": [],
   "source": []
  },
  {
   "cell_type": "code",
   "execution_count": null,
   "id": "d7f7eece-9902-4688-8c14-cf8a0a00fa31",
   "metadata": {},
   "outputs": [],
   "source": []
  },
  {
   "cell_type": "code",
   "execution_count": null,
   "id": "9e7aebbc-ef2c-496d-9145-7d724ded66d8",
   "metadata": {},
   "outputs": [],
   "source": []
  },
  {
   "cell_type": "code",
   "execution_count": null,
   "id": "a1e74bb2-6a80-4380-b365-6cf035f7117c",
   "metadata": {},
   "outputs": [],
   "source": []
  }
 ],
 "metadata": {
  "accelerator": "GPU",
  "colab": {
   "gpuType": "T4",
   "machine_shape": "hm",
   "provenance": [],
   "toc_visible": true
  },
  "kernelspec": {
   "display_name": "Python 3 (ipykernel)",
   "language": "python",
   "name": "python3"
  },
  "language_info": {
   "codemirror_mode": {
    "name": "ipython",
    "version": 3
   },
   "file_extension": ".py",
   "mimetype": "text/x-python",
   "name": "python",
   "nbconvert_exporter": "python",
   "pygments_lexer": "ipython3",
   "version": "3.10.12"
  },
  "widgets": {
   "application/vnd.jupyter.widget-state+json": {
    "0c8de70896ac499890dfaac748068474": {
     "model_module": "@jupyter-widgets/controls",
     "model_module_version": "1.5.0",
     "model_name": "HBoxModel",
     "state": {
      "_dom_classes": [],
      "_model_module": "@jupyter-widgets/controls",
      "_model_module_version": "1.5.0",
      "_model_name": "HBoxModel",
      "_view_count": null,
      "_view_module": "@jupyter-widgets/controls",
      "_view_module_version": "1.5.0",
      "_view_name": "HBoxView",
      "box_style": "",
      "children": [
       "IPY_MODEL_778c3e31edf24561a362e792234e784b",
       "IPY_MODEL_1f25d509f34d43e1a693bc9d2f2cf902",
       "IPY_MODEL_265aecdd53304dee9007ebc077699769"
      ],
      "layout": "IPY_MODEL_c71550d3348a463da2549b9af287bfc4"
     }
    },
    "0ed66232bf4a4406b13fc0f2b6a1c23f": {
     "model_module": "@jupyter-widgets/controls",
     "model_module_version": "1.5.0",
     "model_name": "DescriptionStyleModel",
     "state": {
      "_model_module": "@jupyter-widgets/controls",
      "_model_module_version": "1.5.0",
      "_model_name": "DescriptionStyleModel",
      "_view_count": null,
      "_view_module": "@jupyter-widgets/base",
      "_view_module_version": "1.2.0",
      "_view_name": "StyleView",
      "description_width": ""
     }
    },
    "1f25d509f34d43e1a693bc9d2f2cf902": {
     "model_module": "@jupyter-widgets/controls",
     "model_module_version": "1.5.0",
     "model_name": "FloatProgressModel",
     "state": {
      "_dom_classes": [],
      "_model_module": "@jupyter-widgets/controls",
      "_model_module_version": "1.5.0",
      "_model_name": "FloatProgressModel",
      "_view_count": null,
      "_view_module": "@jupyter-widgets/controls",
      "_view_module_version": "1.5.0",
      "_view_name": "ProgressView",
      "bar_style": "success",
      "description": "",
      "description_tooltip": null,
      "layout": "IPY_MODEL_f33ff28a79114e5b8e999bf67c766d81",
      "max": 42807620,
      "min": 0,
      "orientation": "horizontal",
      "style": "IPY_MODEL_f609e4103d5840ceb40f077ff499abfb",
      "value": 42807620
     }
    },
    "203fdf6fb64f4e5d85c7f5839fda2cfb": {
     "model_module": "@jupyter-widgets/base",
     "model_module_version": "1.2.0",
     "model_name": "LayoutModel",
     "state": {
      "_model_module": "@jupyter-widgets/base",
      "_model_module_version": "1.2.0",
      "_model_name": "LayoutModel",
      "_view_count": null,
      "_view_module": "@jupyter-widgets/base",
      "_view_module_version": "1.2.0",
      "_view_name": "LayoutView",
      "align_content": null,
      "align_items": null,
      "align_self": null,
      "border": null,
      "bottom": null,
      "display": null,
      "flex": null,
      "flex_flow": null,
      "grid_area": null,
      "grid_auto_columns": null,
      "grid_auto_flow": null,
      "grid_auto_rows": null,
      "grid_column": null,
      "grid_gap": null,
      "grid_row": null,
      "grid_template_areas": null,
      "grid_template_columns": null,
      "grid_template_rows": null,
      "height": null,
      "justify_content": null,
      "justify_items": null,
      "left": null,
      "margin": null,
      "max_height": null,
      "max_width": null,
      "min_height": null,
      "min_width": null,
      "object_fit": null,
      "object_position": null,
      "order": null,
      "overflow": null,
      "overflow_x": null,
      "overflow_y": null,
      "padding": null,
      "right": null,
      "top": null,
      "visibility": null,
      "width": null
     }
    },
    "23e9660dcc00462cbbbae3a0822f1898": {
     "model_module": "@jupyter-widgets/base",
     "model_module_version": "1.2.0",
     "model_name": "LayoutModel",
     "state": {
      "_model_module": "@jupyter-widgets/base",
      "_model_module_version": "1.2.0",
      "_model_name": "LayoutModel",
      "_view_count": null,
      "_view_module": "@jupyter-widgets/base",
      "_view_module_version": "1.2.0",
      "_view_name": "LayoutView",
      "align_content": null,
      "align_items": null,
      "align_self": null,
      "border": null,
      "bottom": null,
      "display": null,
      "flex": null,
      "flex_flow": null,
      "grid_area": null,
      "grid_auto_columns": null,
      "grid_auto_flow": null,
      "grid_auto_rows": null,
      "grid_column": null,
      "grid_gap": null,
      "grid_row": null,
      "grid_template_areas": null,
      "grid_template_columns": null,
      "grid_template_rows": null,
      "height": null,
      "justify_content": null,
      "justify_items": null,
      "left": null,
      "margin": null,
      "max_height": null,
      "max_width": null,
      "min_height": null,
      "min_width": null,
      "object_fit": null,
      "object_position": null,
      "order": null,
      "overflow": null,
      "overflow_x": null,
      "overflow_y": null,
      "padding": null,
      "right": null,
      "top": null,
      "visibility": null,
      "width": null
     }
    },
    "265aecdd53304dee9007ebc077699769": {
     "model_module": "@jupyter-widgets/controls",
     "model_module_version": "1.5.0",
     "model_name": "HTMLModel",
     "state": {
      "_dom_classes": [],
      "_model_module": "@jupyter-widgets/controls",
      "_model_module_version": "1.5.0",
      "_model_name": "HTMLModel",
      "_view_count": null,
      "_view_module": "@jupyter-widgets/controls",
      "_view_module_version": "1.5.0",
      "_view_name": "HTMLView",
      "description": "",
      "description_tooltip": null,
      "layout": "IPY_MODEL_68a1fa6930e542e5afa3d111fb85bc18",
      "placeholder": "​",
      "style": "IPY_MODEL_feece1895f914160b7768b595e2a4493",
      "value": " 42.8M/42.8M [00:00&lt;00:00, 91.2MB/s]"
     }
    },
    "29738d2a39ec4b59b4a12001a01b82c2": {
     "model_module": "@jupyter-widgets/base",
     "model_module_version": "1.2.0",
     "model_name": "LayoutModel",
     "state": {
      "_model_module": "@jupyter-widgets/base",
      "_model_module_version": "1.2.0",
      "_model_name": "LayoutModel",
      "_view_count": null,
      "_view_module": "@jupyter-widgets/base",
      "_view_module_version": "1.2.0",
      "_view_name": "LayoutView",
      "align_content": null,
      "align_items": null,
      "align_self": null,
      "border": null,
      "bottom": null,
      "display": null,
      "flex": null,
      "flex_flow": null,
      "grid_area": null,
      "grid_auto_columns": null,
      "grid_auto_flow": null,
      "grid_auto_rows": null,
      "grid_column": null,
      "grid_gap": null,
      "grid_row": null,
      "grid_template_areas": null,
      "grid_template_columns": null,
      "grid_template_rows": null,
      "height": null,
      "justify_content": null,
      "justify_items": null,
      "left": null,
      "margin": null,
      "max_height": null,
      "max_width": null,
      "min_height": null,
      "min_width": null,
      "object_fit": null,
      "object_position": null,
      "order": null,
      "overflow": null,
      "overflow_x": null,
      "overflow_y": null,
      "padding": null,
      "right": null,
      "top": null,
      "visibility": null,
      "width": null
     }
    },
    "310abe7379aa41ef9241748e0fe40695": {
     "model_module": "@jupyter-widgets/base",
     "model_module_version": "1.2.0",
     "model_name": "LayoutModel",
     "state": {
      "_model_module": "@jupyter-widgets/base",
      "_model_module_version": "1.2.0",
      "_model_name": "LayoutModel",
      "_view_count": null,
      "_view_module": "@jupyter-widgets/base",
      "_view_module_version": "1.2.0",
      "_view_name": "LayoutView",
      "align_content": null,
      "align_items": null,
      "align_self": null,
      "border": null,
      "bottom": null,
      "display": null,
      "flex": null,
      "flex_flow": null,
      "grid_area": null,
      "grid_auto_columns": null,
      "grid_auto_flow": null,
      "grid_auto_rows": null,
      "grid_column": null,
      "grid_gap": null,
      "grid_row": null,
      "grid_template_areas": null,
      "grid_template_columns": null,
      "grid_template_rows": null,
      "height": null,
      "justify_content": null,
      "justify_items": null,
      "left": null,
      "margin": null,
      "max_height": null,
      "max_width": null,
      "min_height": null,
      "min_width": null,
      "object_fit": null,
      "object_position": null,
      "order": null,
      "overflow": null,
      "overflow_x": null,
      "overflow_y": null,
      "padding": null,
      "right": null,
      "top": null,
      "visibility": null,
      "width": null
     }
    },
    "3ea963a1379447ef84e7b9dfb4dbb679": {
     "model_module": "@jupyter-widgets/controls",
     "model_module_version": "1.5.0",
     "model_name": "FloatProgressModel",
     "state": {
      "_dom_classes": [],
      "_model_module": "@jupyter-widgets/controls",
      "_model_module_version": "1.5.0",
      "_model_name": "FloatProgressModel",
      "_view_count": null,
      "_view_module": "@jupyter-widgets/controls",
      "_view_module_version": "1.5.0",
      "_view_name": "ProgressView",
      "bar_style": "success",
      "description": "",
      "description_tooltip": null,
      "layout": "IPY_MODEL_23e9660dcc00462cbbbae3a0822f1898",
      "max": 83187,
      "min": 0,
      "orientation": "horizontal",
      "style": "IPY_MODEL_b28a610af8c9426980e888f0bb906c4c",
      "value": 83187
     }
    },
    "4250735c57724a979f8744332b0adf63": {
     "model_module": "@jupyter-widgets/controls",
     "model_module_version": "1.5.0",
     "model_name": "ProgressStyleModel",
     "state": {
      "_model_module": "@jupyter-widgets/controls",
      "_model_module_version": "1.5.0",
      "_model_name": "ProgressStyleModel",
      "_view_count": null,
      "_view_module": "@jupyter-widgets/base",
      "_view_module_version": "1.2.0",
      "_view_name": "StyleView",
      "bar_color": null,
      "description_width": ""
     }
    },
    "4670809e805e4aeb81b8679e64dda257": {
     "model_module": "@jupyter-widgets/controls",
     "model_module_version": "1.5.0",
     "model_name": "DescriptionStyleModel",
     "state": {
      "_model_module": "@jupyter-widgets/controls",
      "_model_module_version": "1.5.0",
      "_model_name": "DescriptionStyleModel",
      "_view_count": null,
      "_view_module": "@jupyter-widgets/base",
      "_view_module_version": "1.2.0",
      "_view_name": "StyleView",
      "description_width": ""
     }
    },
    "5dad88f8dddb4a7ea823c4d766d992f0": {
     "model_module": "@jupyter-widgets/controls",
     "model_module_version": "1.5.0",
     "model_name": "HTMLModel",
     "state": {
      "_dom_classes": [],
      "_model_module": "@jupyter-widgets/controls",
      "_model_module_version": "1.5.0",
      "_model_name": "HTMLModel",
      "_view_count": null,
      "_view_module": "@jupyter-widgets/controls",
      "_view_module_version": "1.5.0",
      "_view_name": "HTMLView",
      "description": "",
      "description_tooltip": null,
      "layout": "IPY_MODEL_29738d2a39ec4b59b4a12001a01b82c2",
      "placeholder": "​",
      "style": "IPY_MODEL_0ed66232bf4a4406b13fc0f2b6a1c23f",
      "value": "Generating train split: 100%"
     }
    },
    "64cd63a63fb045728de7cbaf9142c721": {
     "model_module": "@jupyter-widgets/controls",
     "model_module_version": "1.5.0",
     "model_name": "HTMLModel",
     "state": {
      "_dom_classes": [],
      "_model_module": "@jupyter-widgets/controls",
      "_model_module_version": "1.5.0",
      "_model_name": "HTMLModel",
      "_view_count": null,
      "_view_module": "@jupyter-widgets/controls",
      "_view_module_version": "1.5.0",
      "_view_name": "HTMLView",
      "description": "",
      "description_tooltip": null,
      "layout": "IPY_MODEL_310abe7379aa41ef9241748e0fe40695",
      "placeholder": "​",
      "style": "IPY_MODEL_d664d7f5b5124895a4b563873ef438ba",
      "value": " 83187/83187 [00:00&lt;00:00, 113751.29 examples/s]"
     }
    },
    "68a1fa6930e542e5afa3d111fb85bc18": {
     "model_module": "@jupyter-widgets/base",
     "model_module_version": "1.2.0",
     "model_name": "LayoutModel",
     "state": {
      "_model_module": "@jupyter-widgets/base",
      "_model_module_version": "1.2.0",
      "_model_name": "LayoutModel",
      "_view_count": null,
      "_view_module": "@jupyter-widgets/base",
      "_view_module_version": "1.2.0",
      "_view_name": "LayoutView",
      "align_content": null,
      "align_items": null,
      "align_self": null,
      "border": null,
      "bottom": null,
      "display": null,
      "flex": null,
      "flex_flow": null,
      "grid_area": null,
      "grid_auto_columns": null,
      "grid_auto_flow": null,
      "grid_auto_rows": null,
      "grid_column": null,
      "grid_gap": null,
      "grid_row": null,
      "grid_template_areas": null,
      "grid_template_columns": null,
      "grid_template_rows": null,
      "height": null,
      "justify_content": null,
      "justify_items": null,
      "left": null,
      "margin": null,
      "max_height": null,
      "max_width": null,
      "min_height": null,
      "min_width": null,
      "object_fit": null,
      "object_position": null,
      "order": null,
      "overflow": null,
      "overflow_x": null,
      "overflow_y": null,
      "padding": null,
      "right": null,
      "top": null,
      "visibility": null,
      "width": null
     }
    },
    "6eb503e17d7d443d937acbe836e4b31a": {
     "model_module": "@jupyter-widgets/controls",
     "model_module_version": "1.5.0",
     "model_name": "FloatProgressModel",
     "state": {
      "_dom_classes": [],
      "_model_module": "@jupyter-widgets/controls",
      "_model_module_version": "1.5.0",
      "_model_name": "FloatProgressModel",
      "_view_count": null,
      "_view_module": "@jupyter-widgets/controls",
      "_view_module_version": "1.5.0",
      "_view_name": "ProgressView",
      "bar_style": "success",
      "description": "",
      "description_tooltip": null,
      "layout": "IPY_MODEL_b0e4177f5bf84fe3a8c79fd51e42b0e8",
      "max": 26883,
      "min": 0,
      "orientation": "horizontal",
      "style": "IPY_MODEL_4250735c57724a979f8744332b0adf63",
      "value": 26883
     }
    },
    "778c3e31edf24561a362e792234e784b": {
     "model_module": "@jupyter-widgets/controls",
     "model_module_version": "1.5.0",
     "model_name": "HTMLModel",
     "state": {
      "_dom_classes": [],
      "_model_module": "@jupyter-widgets/controls",
      "_model_module_version": "1.5.0",
      "_model_name": "HTMLModel",
      "_view_count": null,
      "_view_module": "@jupyter-widgets/controls",
      "_view_module_version": "1.5.0",
      "_view_name": "HTMLView",
      "description": "",
      "description_tooltip": null,
      "layout": "IPY_MODEL_8c383849f5c44df1a0e15a0344fe6655",
      "placeholder": "​",
      "style": "IPY_MODEL_4670809e805e4aeb81b8679e64dda257",
      "value": "Downloading data: 100%"
     }
    },
    "861870fe159e422c9fe3dd623e32ed69": {
     "model_module": "@jupyter-widgets/base",
     "model_module_version": "1.2.0",
     "model_name": "LayoutModel",
     "state": {
      "_model_module": "@jupyter-widgets/base",
      "_model_module_version": "1.2.0",
      "_model_name": "LayoutModel",
      "_view_count": null,
      "_view_module": "@jupyter-widgets/base",
      "_view_module_version": "1.2.0",
      "_view_name": "LayoutView",
      "align_content": null,
      "align_items": null,
      "align_self": null,
      "border": null,
      "bottom": null,
      "display": null,
      "flex": null,
      "flex_flow": null,
      "grid_area": null,
      "grid_auto_columns": null,
      "grid_auto_flow": null,
      "grid_auto_rows": null,
      "grid_column": null,
      "grid_gap": null,
      "grid_row": null,
      "grid_template_areas": null,
      "grid_template_columns": null,
      "grid_template_rows": null,
      "height": null,
      "justify_content": null,
      "justify_items": null,
      "left": null,
      "margin": null,
      "max_height": null,
      "max_width": null,
      "min_height": null,
      "min_width": null,
      "object_fit": null,
      "object_position": null,
      "order": null,
      "overflow": null,
      "overflow_x": null,
      "overflow_y": null,
      "padding": null,
      "right": null,
      "top": null,
      "visibility": null,
      "width": null
     }
    },
    "8c383849f5c44df1a0e15a0344fe6655": {
     "model_module": "@jupyter-widgets/base",
     "model_module_version": "1.2.0",
     "model_name": "LayoutModel",
     "state": {
      "_model_module": "@jupyter-widgets/base",
      "_model_module_version": "1.2.0",
      "_model_name": "LayoutModel",
      "_view_count": null,
      "_view_module": "@jupyter-widgets/base",
      "_view_module_version": "1.2.0",
      "_view_name": "LayoutView",
      "align_content": null,
      "align_items": null,
      "align_self": null,
      "border": null,
      "bottom": null,
      "display": null,
      "flex": null,
      "flex_flow": null,
      "grid_area": null,
      "grid_auto_columns": null,
      "grid_auto_flow": null,
      "grid_auto_rows": null,
      "grid_column": null,
      "grid_gap": null,
      "grid_row": null,
      "grid_template_areas": null,
      "grid_template_columns": null,
      "grid_template_rows": null,
      "height": null,
      "justify_content": null,
      "justify_items": null,
      "left": null,
      "margin": null,
      "max_height": null,
      "max_width": null,
      "min_height": null,
      "min_width": null,
      "object_fit": null,
      "object_position": null,
      "order": null,
      "overflow": null,
      "overflow_x": null,
      "overflow_y": null,
      "padding": null,
      "right": null,
      "top": null,
      "visibility": null,
      "width": null
     }
    },
    "9bfeffab6b6a48b7acaae3caf7bb9c0e": {
     "model_module": "@jupyter-widgets/controls",
     "model_module_version": "1.5.0",
     "model_name": "HTMLModel",
     "state": {
      "_dom_classes": [],
      "_model_module": "@jupyter-widgets/controls",
      "_model_module_version": "1.5.0",
      "_model_name": "HTMLModel",
      "_view_count": null,
      "_view_module": "@jupyter-widgets/controls",
      "_view_module_version": "1.5.0",
      "_view_name": "HTMLView",
      "description": "",
      "description_tooltip": null,
      "layout": "IPY_MODEL_861870fe159e422c9fe3dd623e32ed69",
      "placeholder": "​",
      "style": "IPY_MODEL_f79238b30e6c43159d2da903991f355a",
      "value": "Downloading readme: 100%"
     }
    },
    "b0e4177f5bf84fe3a8c79fd51e42b0e8": {
     "model_module": "@jupyter-widgets/base",
     "model_module_version": "1.2.0",
     "model_name": "LayoutModel",
     "state": {
      "_model_module": "@jupyter-widgets/base",
      "_model_module_version": "1.2.0",
      "_model_name": "LayoutModel",
      "_view_count": null,
      "_view_module": "@jupyter-widgets/base",
      "_view_module_version": "1.2.0",
      "_view_name": "LayoutView",
      "align_content": null,
      "align_items": null,
      "align_self": null,
      "border": null,
      "bottom": null,
      "display": null,
      "flex": null,
      "flex_flow": null,
      "grid_area": null,
      "grid_auto_columns": null,
      "grid_auto_flow": null,
      "grid_auto_rows": null,
      "grid_column": null,
      "grid_gap": null,
      "grid_row": null,
      "grid_template_areas": null,
      "grid_template_columns": null,
      "grid_template_rows": null,
      "height": null,
      "justify_content": null,
      "justify_items": null,
      "left": null,
      "margin": null,
      "max_height": null,
      "max_width": null,
      "min_height": null,
      "min_width": null,
      "object_fit": null,
      "object_position": null,
      "order": null,
      "overflow": null,
      "overflow_x": null,
      "overflow_y": null,
      "padding": null,
      "right": null,
      "top": null,
      "visibility": null,
      "width": null
     }
    },
    "b28a610af8c9426980e888f0bb906c4c": {
     "model_module": "@jupyter-widgets/controls",
     "model_module_version": "1.5.0",
     "model_name": "ProgressStyleModel",
     "state": {
      "_model_module": "@jupyter-widgets/controls",
      "_model_module_version": "1.5.0",
      "_model_name": "ProgressStyleModel",
      "_view_count": null,
      "_view_module": "@jupyter-widgets/base",
      "_view_module_version": "1.2.0",
      "_view_name": "StyleView",
      "bar_color": null,
      "description_width": ""
     }
    },
    "c71550d3348a463da2549b9af287bfc4": {
     "model_module": "@jupyter-widgets/base",
     "model_module_version": "1.2.0",
     "model_name": "LayoutModel",
     "state": {
      "_model_module": "@jupyter-widgets/base",
      "_model_module_version": "1.2.0",
      "_model_name": "LayoutModel",
      "_view_count": null,
      "_view_module": "@jupyter-widgets/base",
      "_view_module_version": "1.2.0",
      "_view_name": "LayoutView",
      "align_content": null,
      "align_items": null,
      "align_self": null,
      "border": null,
      "bottom": null,
      "display": null,
      "flex": null,
      "flex_flow": null,
      "grid_area": null,
      "grid_auto_columns": null,
      "grid_auto_flow": null,
      "grid_auto_rows": null,
      "grid_column": null,
      "grid_gap": null,
      "grid_row": null,
      "grid_template_areas": null,
      "grid_template_columns": null,
      "grid_template_rows": null,
      "height": null,
      "justify_content": null,
      "justify_items": null,
      "left": null,
      "margin": null,
      "max_height": null,
      "max_width": null,
      "min_height": null,
      "min_width": null,
      "object_fit": null,
      "object_position": null,
      "order": null,
      "overflow": null,
      "overflow_x": null,
      "overflow_y": null,
      "padding": null,
      "right": null,
      "top": null,
      "visibility": null,
      "width": null
     }
    },
    "c93ed51e68234916a7464bcdcf3de300": {
     "model_module": "@jupyter-widgets/base",
     "model_module_version": "1.2.0",
     "model_name": "LayoutModel",
     "state": {
      "_model_module": "@jupyter-widgets/base",
      "_model_module_version": "1.2.0",
      "_model_name": "LayoutModel",
      "_view_count": null,
      "_view_module": "@jupyter-widgets/base",
      "_view_module_version": "1.2.0",
      "_view_name": "LayoutView",
      "align_content": null,
      "align_items": null,
      "align_self": null,
      "border": null,
      "bottom": null,
      "display": null,
      "flex": null,
      "flex_flow": null,
      "grid_area": null,
      "grid_auto_columns": null,
      "grid_auto_flow": null,
      "grid_auto_rows": null,
      "grid_column": null,
      "grid_gap": null,
      "grid_row": null,
      "grid_template_areas": null,
      "grid_template_columns": null,
      "grid_template_rows": null,
      "height": null,
      "justify_content": null,
      "justify_items": null,
      "left": null,
      "margin": null,
      "max_height": null,
      "max_width": null,
      "min_height": null,
      "min_width": null,
      "object_fit": null,
      "object_position": null,
      "order": null,
      "overflow": null,
      "overflow_x": null,
      "overflow_y": null,
      "padding": null,
      "right": null,
      "top": null,
      "visibility": null,
      "width": null
     }
    },
    "d664d7f5b5124895a4b563873ef438ba": {
     "model_module": "@jupyter-widgets/controls",
     "model_module_version": "1.5.0",
     "model_name": "DescriptionStyleModel",
     "state": {
      "_model_module": "@jupyter-widgets/controls",
      "_model_module_version": "1.5.0",
      "_model_name": "DescriptionStyleModel",
      "_view_count": null,
      "_view_module": "@jupyter-widgets/base",
      "_view_module_version": "1.2.0",
      "_view_name": "StyleView",
      "description_width": ""
     }
    },
    "d886eecef97d49dcb658054019146e2d": {
     "model_module": "@jupyter-widgets/controls",
     "model_module_version": "1.5.0",
     "model_name": "HTMLModel",
     "state": {
      "_dom_classes": [],
      "_model_module": "@jupyter-widgets/controls",
      "_model_module_version": "1.5.0",
      "_model_name": "HTMLModel",
      "_view_count": null,
      "_view_module": "@jupyter-widgets/controls",
      "_view_module_version": "1.5.0",
      "_view_name": "HTMLView",
      "description": "",
      "description_tooltip": null,
      "layout": "IPY_MODEL_203fdf6fb64f4e5d85c7f5839fda2cfb",
      "placeholder": "​",
      "style": "IPY_MODEL_e902993001f44d968c0885809ea71961",
      "value": " 26.9k/26.9k [00:00&lt;00:00, 604kB/s]"
     }
    },
    "e3ff025c6ddf445ab6d7b3de3d67b830": {
     "model_module": "@jupyter-widgets/controls",
     "model_module_version": "1.5.0",
     "model_name": "HBoxModel",
     "state": {
      "_dom_classes": [],
      "_model_module": "@jupyter-widgets/controls",
      "_model_module_version": "1.5.0",
      "_model_name": "HBoxModel",
      "_view_count": null,
      "_view_module": "@jupyter-widgets/controls",
      "_view_module_version": "1.5.0",
      "_view_name": "HBoxView",
      "box_style": "",
      "children": [
       "IPY_MODEL_9bfeffab6b6a48b7acaae3caf7bb9c0e",
       "IPY_MODEL_6eb503e17d7d443d937acbe836e4b31a",
       "IPY_MODEL_d886eecef97d49dcb658054019146e2d"
      ],
      "layout": "IPY_MODEL_c93ed51e68234916a7464bcdcf3de300"
     }
    },
    "e902993001f44d968c0885809ea71961": {
     "model_module": "@jupyter-widgets/controls",
     "model_module_version": "1.5.0",
     "model_name": "DescriptionStyleModel",
     "state": {
      "_model_module": "@jupyter-widgets/controls",
      "_model_module_version": "1.5.0",
      "_model_name": "DescriptionStyleModel",
      "_view_count": null,
      "_view_module": "@jupyter-widgets/base",
      "_view_module_version": "1.2.0",
      "_view_name": "StyleView",
      "description_width": ""
     }
    },
    "ef7f6248fff34508a5c9c62b08afbe58": {
     "model_module": "@jupyter-widgets/controls",
     "model_module_version": "1.5.0",
     "model_name": "HBoxModel",
     "state": {
      "_dom_classes": [],
      "_model_module": "@jupyter-widgets/controls",
      "_model_module_version": "1.5.0",
      "_model_name": "HBoxModel",
      "_view_count": null,
      "_view_module": "@jupyter-widgets/controls",
      "_view_module_version": "1.5.0",
      "_view_name": "HBoxView",
      "box_style": "",
      "children": [
       "IPY_MODEL_5dad88f8dddb4a7ea823c4d766d992f0",
       "IPY_MODEL_3ea963a1379447ef84e7b9dfb4dbb679",
       "IPY_MODEL_64cd63a63fb045728de7cbaf9142c721"
      ],
      "layout": "IPY_MODEL_eff343ca05364570b3b1894d7d3d4e61"
     }
    },
    "eff343ca05364570b3b1894d7d3d4e61": {
     "model_module": "@jupyter-widgets/base",
     "model_module_version": "1.2.0",
     "model_name": "LayoutModel",
     "state": {
      "_model_module": "@jupyter-widgets/base",
      "_model_module_version": "1.2.0",
      "_model_name": "LayoutModel",
      "_view_count": null,
      "_view_module": "@jupyter-widgets/base",
      "_view_module_version": "1.2.0",
      "_view_name": "LayoutView",
      "align_content": null,
      "align_items": null,
      "align_self": null,
      "border": null,
      "bottom": null,
      "display": null,
      "flex": null,
      "flex_flow": null,
      "grid_area": null,
      "grid_auto_columns": null,
      "grid_auto_flow": null,
      "grid_auto_rows": null,
      "grid_column": null,
      "grid_gap": null,
      "grid_row": null,
      "grid_template_areas": null,
      "grid_template_columns": null,
      "grid_template_rows": null,
      "height": null,
      "justify_content": null,
      "justify_items": null,
      "left": null,
      "margin": null,
      "max_height": null,
      "max_width": null,
      "min_height": null,
      "min_width": null,
      "object_fit": null,
      "object_position": null,
      "order": null,
      "overflow": null,
      "overflow_x": null,
      "overflow_y": null,
      "padding": null,
      "right": null,
      "top": null,
      "visibility": null,
      "width": null
     }
    },
    "f33ff28a79114e5b8e999bf67c766d81": {
     "model_module": "@jupyter-widgets/base",
     "model_module_version": "1.2.0",
     "model_name": "LayoutModel",
     "state": {
      "_model_module": "@jupyter-widgets/base",
      "_model_module_version": "1.2.0",
      "_model_name": "LayoutModel",
      "_view_count": null,
      "_view_module": "@jupyter-widgets/base",
      "_view_module_version": "1.2.0",
      "_view_name": "LayoutView",
      "align_content": null,
      "align_items": null,
      "align_self": null,
      "border": null,
      "bottom": null,
      "display": null,
      "flex": null,
      "flex_flow": null,
      "grid_area": null,
      "grid_auto_columns": null,
      "grid_auto_flow": null,
      "grid_auto_rows": null,
      "grid_column": null,
      "grid_gap": null,
      "grid_row": null,
      "grid_template_areas": null,
      "grid_template_columns": null,
      "grid_template_rows": null,
      "height": null,
      "justify_content": null,
      "justify_items": null,
      "left": null,
      "margin": null,
      "max_height": null,
      "max_width": null,
      "min_height": null,
      "min_width": null,
      "object_fit": null,
      "object_position": null,
      "order": null,
      "overflow": null,
      "overflow_x": null,
      "overflow_y": null,
      "padding": null,
      "right": null,
      "top": null,
      "visibility": null,
      "width": null
     }
    },
    "f609e4103d5840ceb40f077ff499abfb": {
     "model_module": "@jupyter-widgets/controls",
     "model_module_version": "1.5.0",
     "model_name": "ProgressStyleModel",
     "state": {
      "_model_module": "@jupyter-widgets/controls",
      "_model_module_version": "1.5.0",
      "_model_name": "ProgressStyleModel",
      "_view_count": null,
      "_view_module": "@jupyter-widgets/base",
      "_view_module_version": "1.2.0",
      "_view_name": "StyleView",
      "bar_color": null,
      "description_width": ""
     }
    },
    "f79238b30e6c43159d2da903991f355a": {
     "model_module": "@jupyter-widgets/controls",
     "model_module_version": "1.5.0",
     "model_name": "DescriptionStyleModel",
     "state": {
      "_model_module": "@jupyter-widgets/controls",
      "_model_module_version": "1.5.0",
      "_model_name": "DescriptionStyleModel",
      "_view_count": null,
      "_view_module": "@jupyter-widgets/base",
      "_view_module_version": "1.2.0",
      "_view_name": "StyleView",
      "description_width": ""
     }
    },
    "feece1895f914160b7768b595e2a4493": {
     "model_module": "@jupyter-widgets/controls",
     "model_module_version": "1.5.0",
     "model_name": "DescriptionStyleModel",
     "state": {
      "_model_module": "@jupyter-widgets/controls",
      "_model_module_version": "1.5.0",
      "_model_name": "DescriptionStyleModel",
      "_view_count": null,
      "_view_module": "@jupyter-widgets/base",
      "_view_module_version": "1.2.0",
      "_view_name": "StyleView",
      "description_width": ""
     }
    }
   }
  }
 },
 "nbformat": 4,
 "nbformat_minor": 5
}
